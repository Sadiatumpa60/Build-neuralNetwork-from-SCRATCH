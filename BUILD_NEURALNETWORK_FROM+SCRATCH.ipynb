{
  "nbformat": 4,
  "nbformat_minor": 0,
  "metadata": {
    "colab": {
      "provenance": []
    },
    "kernelspec": {
      "name": "python3",
      "display_name": "Python 3"
    },
    "language_info": {
      "name": "python"
    }
  },
  "cells": [
    {
      "cell_type": "code",
      "source": [
        "from google.colab import drive\n",
        "drive.mount('/content/drive')"
      ],
      "metadata": {
        "colab": {
          "base_uri": "https://localhost:8080/"
        },
        "id": "3MGJH0Eh0Mik",
        "outputId": "9960df57-da69-402a-c852-1913a5104023"
      },
      "execution_count": null,
      "outputs": [
        {
          "output_type": "stream",
          "name": "stdout",
          "text": [
            "Mounted at /content/drive\n"
          ]
        }
      ]
    },
    {
      "cell_type": "code",
      "execution_count": null,
      "metadata": {
        "id": "pMkoec-fzbbd"
      },
      "outputs": [],
      "source": [
        "import numpy as np\n",
        "import matplotlib.pyplot as plt\n",
        "import pandas as pd"
      ]
    },
    {
      "cell_type": "markdown",
      "source": [
        "Loading the dataset"
      ],
      "metadata": {
        "id": "PXGrgVyf0F2l"
      }
    },
    {
      "cell_type": "code",
      "source": [
        "df_original = pd.read_csv('/content/drive/MyDrive/Diabetes/diabetes2-modified.csv')\n",
        "df_original.head()"
      ],
      "metadata": {
        "colab": {
          "base_uri": "https://localhost:8080/",
          "height": 206
        },
        "id": "YsNZ3Gof0Ew7",
        "outputId": "2ce6c110-f1be-4198-92e6-24b670e3762d"
      },
      "execution_count": null,
      "outputs": [
        {
          "output_type": "execute_result",
          "data": {
            "text/plain": [
              "    BMI  DiabetesPedigreeFunction  Outcome\n",
              "0  33.6                     0.627        1\n",
              "1  26.6                     0.351        0\n",
              "2  23.3                     0.672        1\n",
              "3  28.1                     0.167        0\n",
              "4  43.1                     2.288        1"
            ],
            "text/html": [
              "\n",
              "  <div id=\"df-ca0adf04-c0e2-417d-8f74-227ec730c973\">\n",
              "    <div class=\"colab-df-container\">\n",
              "      <div>\n",
              "<style scoped>\n",
              "    .dataframe tbody tr th:only-of-type {\n",
              "        vertical-align: middle;\n",
              "    }\n",
              "\n",
              "    .dataframe tbody tr th {\n",
              "        vertical-align: top;\n",
              "    }\n",
              "\n",
              "    .dataframe thead th {\n",
              "        text-align: right;\n",
              "    }\n",
              "</style>\n",
              "<table border=\"1\" class=\"dataframe\">\n",
              "  <thead>\n",
              "    <tr style=\"text-align: right;\">\n",
              "      <th></th>\n",
              "      <th>BMI</th>\n",
              "      <th>DiabetesPedigreeFunction</th>\n",
              "      <th>Outcome</th>\n",
              "    </tr>\n",
              "  </thead>\n",
              "  <tbody>\n",
              "    <tr>\n",
              "      <th>0</th>\n",
              "      <td>33.6</td>\n",
              "      <td>0.627</td>\n",
              "      <td>1</td>\n",
              "    </tr>\n",
              "    <tr>\n",
              "      <th>1</th>\n",
              "      <td>26.6</td>\n",
              "      <td>0.351</td>\n",
              "      <td>0</td>\n",
              "    </tr>\n",
              "    <tr>\n",
              "      <th>2</th>\n",
              "      <td>23.3</td>\n",
              "      <td>0.672</td>\n",
              "      <td>1</td>\n",
              "    </tr>\n",
              "    <tr>\n",
              "      <th>3</th>\n",
              "      <td>28.1</td>\n",
              "      <td>0.167</td>\n",
              "      <td>0</td>\n",
              "    </tr>\n",
              "    <tr>\n",
              "      <th>4</th>\n",
              "      <td>43.1</td>\n",
              "      <td>2.288</td>\n",
              "      <td>1</td>\n",
              "    </tr>\n",
              "  </tbody>\n",
              "</table>\n",
              "</div>\n",
              "      <button class=\"colab-df-convert\" onclick=\"convertToInteractive('df-ca0adf04-c0e2-417d-8f74-227ec730c973')\"\n",
              "              title=\"Convert this dataframe to an interactive table.\"\n",
              "              style=\"display:none;\">\n",
              "        \n",
              "  <svg xmlns=\"http://www.w3.org/2000/svg\" height=\"24px\"viewBox=\"0 0 24 24\"\n",
              "       width=\"24px\">\n",
              "    <path d=\"M0 0h24v24H0V0z\" fill=\"none\"/>\n",
              "    <path d=\"M18.56 5.44l.94 2.06.94-2.06 2.06-.94-2.06-.94-.94-2.06-.94 2.06-2.06.94zm-11 1L8.5 8.5l.94-2.06 2.06-.94-2.06-.94L8.5 2.5l-.94 2.06-2.06.94zm10 10l.94 2.06.94-2.06 2.06-.94-2.06-.94-.94-2.06-.94 2.06-2.06.94z\"/><path d=\"M17.41 7.96l-1.37-1.37c-.4-.4-.92-.59-1.43-.59-.52 0-1.04.2-1.43.59L10.3 9.45l-7.72 7.72c-.78.78-.78 2.05 0 2.83L4 21.41c.39.39.9.59 1.41.59.51 0 1.02-.2 1.41-.59l7.78-7.78 2.81-2.81c.8-.78.8-2.07 0-2.86zM5.41 20L4 18.59l7.72-7.72 1.47 1.35L5.41 20z\"/>\n",
              "  </svg>\n",
              "      </button>\n",
              "      \n",
              "  <style>\n",
              "    .colab-df-container {\n",
              "      display:flex;\n",
              "      flex-wrap:wrap;\n",
              "      gap: 12px;\n",
              "    }\n",
              "\n",
              "    .colab-df-convert {\n",
              "      background-color: #E8F0FE;\n",
              "      border: none;\n",
              "      border-radius: 50%;\n",
              "      cursor: pointer;\n",
              "      display: none;\n",
              "      fill: #1967D2;\n",
              "      height: 32px;\n",
              "      padding: 0 0 0 0;\n",
              "      width: 32px;\n",
              "    }\n",
              "\n",
              "    .colab-df-convert:hover {\n",
              "      background-color: #E2EBFA;\n",
              "      box-shadow: 0px 1px 2px rgba(60, 64, 67, 0.3), 0px 1px 3px 1px rgba(60, 64, 67, 0.15);\n",
              "      fill: #174EA6;\n",
              "    }\n",
              "\n",
              "    [theme=dark] .colab-df-convert {\n",
              "      background-color: #3B4455;\n",
              "      fill: #D2E3FC;\n",
              "    }\n",
              "\n",
              "    [theme=dark] .colab-df-convert:hover {\n",
              "      background-color: #434B5C;\n",
              "      box-shadow: 0px 1px 3px 1px rgba(0, 0, 0, 0.15);\n",
              "      filter: drop-shadow(0px 1px 2px rgba(0, 0, 0, 0.3));\n",
              "      fill: #FFFFFF;\n",
              "    }\n",
              "  </style>\n",
              "\n",
              "      <script>\n",
              "        const buttonEl =\n",
              "          document.querySelector('#df-ca0adf04-c0e2-417d-8f74-227ec730c973 button.colab-df-convert');\n",
              "        buttonEl.style.display =\n",
              "          google.colab.kernel.accessAllowed ? 'block' : 'none';\n",
              "\n",
              "        async function convertToInteractive(key) {\n",
              "          const element = document.querySelector('#df-ca0adf04-c0e2-417d-8f74-227ec730c973');\n",
              "          const dataTable =\n",
              "            await google.colab.kernel.invokeFunction('convertToInteractive',\n",
              "                                                     [key], {});\n",
              "          if (!dataTable) return;\n",
              "\n",
              "          const docLinkHtml = 'Like what you see? Visit the ' +\n",
              "            '<a target=\"_blank\" href=https://colab.research.google.com/notebooks/data_table.ipynb>data table notebook</a>'\n",
              "            + ' to learn more about interactive tables.';\n",
              "          element.innerHTML = '';\n",
              "          dataTable['output_type'] = 'display_data';\n",
              "          await google.colab.output.renderOutput(dataTable, element);\n",
              "          const docLink = document.createElement('div');\n",
              "          docLink.innerHTML = docLinkHtml;\n",
              "          element.appendChild(docLink);\n",
              "        }\n",
              "      </script>\n",
              "    </div>\n",
              "  </div>\n",
              "  "
            ]
          },
          "metadata": {},
          "execution_count": 4
        }
      ]
    },
    {
      "cell_type": "code",
      "source": [
        "cols = df_original.columns.tolist()"
      ],
      "metadata": {
        "id": "wghjYyBM1fXM"
      },
      "execution_count": null,
      "outputs": []
    },
    {
      "cell_type": "code",
      "source": [
        "from sklearn.feature_selection import mutual_info_classif\n",
        "feature_df =df_original [['BMI','DiabetesPedigreeFunction']]\n",
        "class_labels =df_original['Outcome']"
      ],
      "metadata": {
        "id": "fwl5qqJ21nSM"
      },
      "execution_count": null,
      "outputs": []
    },
    {
      "cell_type": "code",
      "source": [
        "feature_df=np.array(feature_df)\n",
        "class_labels =np.array(class_labels)"
      ],
      "metadata": {
        "id": "q9LeI87X7y4W"
      },
      "execution_count": null,
      "outputs": []
    },
    {
      "cell_type": "markdown",
      "source": [
        "Plotting"
      ],
      "metadata": {
        "id": "sfVN4VLo2Srr"
      }
    },
    {
      "cell_type": "code",
      "source": [
        "plt.plot(df_original,label ='Inline label')\n",
        "plt.legend(['BMI','DiabetesPedigreeFunction','Outcome'])"
      ],
      "metadata": {
        "colab": {
          "base_uri": "https://localhost:8080/",
          "height": 447
        },
        "id": "2XOw2KVa2VD0",
        "outputId": "cf4c6179-da81-4bd1-8b40-56dcadf7004b"
      },
      "execution_count": null,
      "outputs": [
        {
          "output_type": "execute_result",
          "data": {
            "text/plain": [
              "<matplotlib.legend.Legend at 0x7fb70c705610>"
            ]
          },
          "metadata": {},
          "execution_count": 19
        },
        {
          "output_type": "display_data",
          "data": {
            "text/plain": [
              "<Figure size 640x480 with 1 Axes>"
            ],
            "image/png": "[encoded data removed]"
          },
          "metadata": {}
        }
      ]
    },
    {
      "cell_type": "code",
      "source": [
        "z= np.zeros((20,2))\n",
        "for i in range(20):\n",
        "  z[i,class_labels[i] ] = 1"
      ],
      "metadata": {
        "id": "b2eQf-Zy30EE"
      },
      "execution_count": null,
      "outputs": []
    },
    {
      "cell_type": "code",
      "source": [
        "feature_df.shape"
      ],
      "metadata": {
        "colab": {
          "base_uri": "https://localhost:8080/"
        },
        "id": "4S-0dY7b4WeV",
        "outputId": "b007fa88-e2a2-4c3e-9c7d-70e9cdd2315b"
      },
      "execution_count": null,
      "outputs": [
        {
          "output_type": "execute_result",
          "data": {
            "text/plain": [
              "(20, 2)"
            ]
          },
          "metadata": {},
          "execution_count": 21
        }
      ]
    },
    {
      "cell_type": "markdown",
      "source": [
        "Adding Weights and Bias"
      ],
      "metadata": {
        "id": "bt1BP3kv6M5E"
      }
    },
    {
      "cell_type": "code",
      "source": [
        "w1 =np.random.randn(3,2)\n",
        "b1=np.random.randn(3)\n",
        "w2=np.random.randn(3,2)\n",
        "b2 = np.random.randn(2)"
      ],
      "metadata": {
        "id": "kIGTQXrI6MSN"
      },
      "execution_count": null,
      "outputs": []
    },
    {
      "cell_type": "code",
      "source": [
        "w1"
      ],
      "metadata": {
        "colab": {
          "base_uri": "https://localhost:8080/"
        },
        "id": "1ir0Zmgu6vws",
        "outputId": "1a26c52e-d517-487a-d932-149a9e68c706"
      },
      "execution_count": null,
      "outputs": [
        {
          "output_type": "execute_result",
          "data": {
            "text/plain": [
              "array([[ 1.47956049,  0.29299819],\n",
              "       [ 0.09854974, -0.37797239],\n",
              "       [ 0.65013713, -0.38863682]])"
            ]
          },
          "metadata": {},
          "execution_count": 23
        }
      ]
    },
    {
      "cell_type": "code",
      "source": [
        "b1"
      ],
      "metadata": {
        "colab": {
          "base_uri": "https://localhost:8080/"
        },
        "id": "toGAu14A6yB1",
        "outputId": "72199829-8f74-4e87-aa24-438c3bb9e16a"
      },
      "execution_count": null,
      "outputs": [
        {
          "output_type": "execute_result",
          "data": {
            "text/plain": [
              "array([ 0.25399004,  1.1160528 , -0.3790083 ])"
            ]
          },
          "metadata": {},
          "execution_count": 24
        }
      ]
    },
    {
      "cell_type": "code",
      "source": [
        "w2"
      ],
      "metadata": {
        "colab": {
          "base_uri": "https://localhost:8080/"
        },
        "id": "zechc-Dj60x0",
        "outputId": "31b73a00-30dd-4750-cdcb-22cb9c224894"
      },
      "execution_count": null,
      "outputs": [
        {
          "output_type": "execute_result",
          "data": {
            "text/plain": [
              "array([[-0.42076819,  0.69630834],\n",
              "       [ 1.1707407 ,  0.76999625],\n",
              "       [-0.90869241,  0.35543742]])"
            ]
          },
          "metadata": {},
          "execution_count": 25
        }
      ]
    },
    {
      "cell_type": "code",
      "source": [
        "b2"
      ],
      "metadata": {
        "colab": {
          "base_uri": "https://localhost:8080/"
        },
        "id": "VnZ8tgIz62Od",
        "outputId": "83224320-e494-4dbb-bd1b-5e4d62279f06"
      },
      "execution_count": null,
      "outputs": [
        {
          "output_type": "execute_result",
          "data": {
            "text/plain": [
              "array([ 0.60542381, -1.82339719])"
            ]
          },
          "metadata": {},
          "execution_count": 26
        }
      ]
    },
    {
      "cell_type": "code",
      "source": [
        "feature_df.dot(w1.T)"
      ],
      "metadata": {
        "colab": {
          "base_uri": "https://localhost:8080/"
        },
        "id": "9sei5jTD7IrF",
        "outputId": "7007046e-dd5c-4541-b23e-007e3e7e0b45"
      },
      "execution_count": null,
      "outputs": [
        {
          "output_type": "execute_result",
          "data": {
            "text/plain": [
              "array([[49.89694218,  3.07428246, 21.60093222],\n",
              "       [39.45915128,  2.48875468, 17.15723609],\n",
              "       [34.6706541 ,  2.04221142, 14.88703114],\n",
              "       [41.62458034,  2.70612621, 18.20395095],\n",
              "       [64.43943679,  3.38269282, 27.13170918],\n",
              "       [37.93564106,  2.44690081, 16.56539448],\n",
              "       [45.9390386 ,  2.96130468, 20.05786904],\n",
              "       [55.68743691,  3.63327737, 24.37092639],\n",
              "       [56.38063847,  3.54191882, 24.4965129 ],\n",
              "       [40.51829955,  2.12603965, 17.05869052],\n",
              "       [43.86941191,  2.82106722, 19.14534524],\n",
              "       [64.11858769,  4.19803465, 28.07981711],\n",
              "       [51.34778884,  3.20987349, 22.28915576],\n",
              "       [52.49012448,  3.34200739, 22.86406325],\n",
              "       [59.0186495 ,  3.75181397, 25.7001825 ],\n",
              "       [36.77133056,  2.34311484, 16.01963475],\n",
              "       [48.87238377,  2.9909347 , 21.13106803],\n",
              "       [33.65487759,  2.14825551, 14.66678316],\n",
              "       [67.38329773,  4.20163995, 29.23601847],\n",
              "       [40.62609877,  2.5891389 , 17.69949809]])"
            ]
          },
          "metadata": {},
          "execution_count": 27
        }
      ]
    },
    {
      "cell_type": "markdown",
      "source": [
        "Feed Forward Network"
      ],
      "metadata": {
        "id": "zaql-qk49S-u"
      }
    },
    {
      "cell_type": "code",
      "source": [
        "def farward_prop(feature_df,w1,ba,w2,b2):\n",
        "  #first layer\n",
        "  M =1/(1+np.exp(-(feature_df.dot(w1.T)+b1)))\n",
        "  #2nd layer\n",
        "  A = M.dot(w2) +b2\n",
        "  expA = np.exp(A)\n",
        "  Y = expA /expA.sum(axis = 1, keepdims = True)\n",
        "  return Y,M"
      ],
      "metadata": {
        "id": "5ghgWBlr9VpG"
      },
      "execution_count": null,
      "outputs": []
    },
    {
      "cell_type": "code",
      "source": [
        "farward_prop(feature_df,w1,b1,w2,b2)"
      ],
      "metadata": {
        "colab": {
          "base_uri": "https://localhost:8080/"
        },
        "id": "5npX7JcB-x3l",
        "outputId": "8b3f53c6-1c5a-4785-c1ad-d52771d3ba19"
      },
      "execution_count": null,
      "outputs": [
        {
          "output_type": "execute_result",
          "data": {
            "text/plain": [
              "(array([[0.60882643, 0.39117357],\n",
              "        [0.60772285, 0.39227715],\n",
              "        [0.60635655, 0.39364345],\n",
              "        [0.60820626, 0.39179374],\n",
              "        [0.60919999, 0.39080001],\n",
              "        [0.60761774, 0.39238226],\n",
              "        [0.60865899, 0.39134101],\n",
              "        [0.60943061, 0.39056939],\n",
              "        [0.60935302, 0.39064698],\n",
              "        [0.60665814, 0.39334186],\n",
              "        [0.608424  , 0.391576  ],\n",
              "        [0.6097821 , 0.3902179 ],\n",
              "        [0.60900456, 0.39099544],\n",
              "        [0.60915691, 0.39084309],\n",
              "        [0.60952142, 0.39047858],\n",
              "        [0.6073384 , 0.3926616 ],\n",
              "        [0.60870469, 0.39129531],\n",
              "        [0.60673442, 0.39326558],\n",
              "        [0.60978377, 0.39021623],\n",
              "        [0.60795857, 0.39204143]]),\n",
              " array([[1.        , 0.98508463, 1.        ],\n",
              "        [1.        , 0.97352719, 0.99999995],\n",
              "        [1.        , 0.95923312, 0.9999995 ],\n",
              "        [1.        , 0.97858842, 0.99999998],\n",
              "        [1.        , 0.98899942, 1.        ],\n",
              "        [1.        , 0.97242688, 0.99999991],\n",
              "        [1.        , 0.98333038, 1.        ],\n",
              "        [1.        , 0.99141682, 1.        ],\n",
              "        [1.        , 0.99060345, 1.        ],\n",
              "        [1.        , 0.96238792, 0.99999994],\n",
              "        [1.        , 0.98086883, 0.99999999],\n",
              "        [1.        , 0.99510234, 1.        ],\n",
              "        [1.        , 0.98695122, 1.        ],\n",
              "        [1.        , 0.98854786, 1.        ],\n",
              "        [1.        , 0.99236893, 1.        ],\n",
              "        [1.        , 0.96950337, 0.99999984],\n",
              "        [1.        , 0.98380918, 1.        ],\n",
              "        [1.        , 0.96318387, 0.99999938],\n",
              "        [1.        , 0.99511988, 1.        ],\n",
              "        [1.        , 0.97599492, 0.99999997]]))"
            ]
          },
          "metadata": {},
          "execution_count": 33
        }
      ]
    },
    {
      "cell_type": "markdown",
      "source": [
        "BACK PROPAGATION"
      ],
      "metadata": {
        "id": "FxnTI-HX_rtK"
      }
    },
    {
      "cell_type": "code",
      "source": [
        "#return gardient decent for weight2\n",
        "def diff_w2(H,z,Y):\n",
        "  return H.T.dot(z-Y)"
      ],
      "metadata": {
        "id": "Tn9sT7An_oH2"
      },
      "execution_count": null,
      "outputs": []
    },
    {
      "cell_type": "code",
      "source": [
        "#return gradient for weights\n",
        "def diff_w1(feature_df,H,z,output,w2):\n",
        "  dZ=(z-output).dot(w2.T)*H*(1-H)\n",
        "  return feature_df.T.dot(dZ) "
      ],
      "metadata": {
        "id": "iAHSv1C1AHv-"
      },
      "execution_count": null,
      "outputs": []
    },
    {
      "cell_type": "code",
      "source": [
        "# return to deactivate the bias\n",
        "def diff_b2(z,Y):\n",
        "  return (z-Y).sum(axis = 0)\n",
        "def diff_b1(z,Y,w2,H):\n",
        "  return ((z-Y).dot(w2.T) * H *(1-H)).sum(axis =0)\n",
        "\n"
      ],
      "metadata": {
        "id": "736uErW2BbBW"
      },
      "execution_count": null,
      "outputs": []
    },
    {
      "cell_type": "code",
      "source": [
        "learning_rate = 1e-3\n",
        "for epoch in range(5000):\n",
        "  output,hidden = farward_prop(feature_df,w1,b1,w2,b2)\n",
        "  w2 += learning_rate * diff_w2(hidden,z,output)\n",
        "  b2 += learning_rate * diff_b2(z,output)\n",
        "  w1 +=learning_rate * diff_w1(feature_df,hidden,z,output,w2).T\n",
        "  b1 +=learning_rate * diff_b1(z,output,w2,hidden)"
      ],
      "metadata": {
        "id": "cG1Uj30bC5hB"
      },
      "execution_count": null,
      "outputs": []
    },
    {
      "cell_type": "markdown",
      "source": [
        "Prediction"
      ],
      "metadata": {
        "id": "F7Wnz2QTIl3I"
      }
    },
    {
      "cell_type": "code",
      "source": [
        "X_test =np.array([45.8,0.551])\n",
        "\n",
        "hidden_output =1 /(1+np.exp(X_test.dot(w1.T)- b1))\n",
        "Outer_layer_output =hidden_output.dot(w2)+ b2\n",
        "expA = np.exp(Outer_layer_output)\n",
        "Y = expA /expA.sum()\n",
        "print(\"Accrracy testing >>>>> {} \".format(Y[0]))\n"
      ],
      "metadata": {
        "colab": {
          "base_uri": "https://localhost:8080/"
        },
        "id": "tY_ywSbUIoUg",
        "outputId": "2325df38-2e8c-474e-e2e4-c1e0eefbb82e"
      },
      "execution_count": null,
      "outputs": [
        {
          "output_type": "stream",
          "name": "stdout",
          "text": [
            "Accrracy testing >>>>> 0.8126470134606478 \n"
          ]
        }
      ]
    }
  ]
}